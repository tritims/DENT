{
  "nbformat": 4,
  "nbformat_minor": 0,
  "metadata": {
    "colab": {
      "name": "DENT_evaluation.ipynb",
      "provenance": []
    },
    "kernelspec": {
      "name": "python3",
      "display_name": "Python 3"
    },
    "language_info": {
      "name": "python"
    }
  },
  "cells": [
    {
      "cell_type": "code",
      "execution_count": 2,
      "metadata": {
        "id": "FIepAAHB8axQ"
      },
      "outputs": [],
      "source": [
        "import pandas as pd\n",
        "from sklearn.metrics.pairwise import cosine_similarity\n",
        "from sklearn.metrics import confusion_matrix\n",
        "from sklearn.metrics import classification_report"
      ]
    },
    {
      "cell_type": "code",
      "source": [
        "df = pd.read_csv('evaluated_posts.csv')"
      ],
      "metadata": {
        "id": "gi-xdvCw8v37"
      },
      "execution_count": 3,
      "outputs": []
    },
    {
      "cell_type": "code",
      "source": [
        "ytrue = df.pattern.tolist()\n",
        "ypred = df.prediction.tolist()"
      ],
      "metadata": {
        "id": "7wZ7rb_g84fZ"
      },
      "execution_count": 4,
      "outputs": []
    },
    {
      "cell_type": "code",
      "source": [
        "confusion_matrix(ytrue, ypred)"
      ],
      "metadata": {
        "colab": {
          "base_uri": "https://localhost:8080/"
        },
        "id": "q_1FtP5O8_Op",
        "outputId": "26613e4d-73c5-4ce3-ebad-1929e8a6393d"
      },
      "execution_count": 5,
      "outputs": [
        {
          "output_type": "execute_result",
          "data": {
            "text/plain": [
              "array([[14,  1,  0,  0,  0,  0,  0,  0,  0],\n",
              "       [ 1,  3,  0,  1,  0,  0,  0,  0,  0],\n",
              "       [ 1,  0,  1,  0,  0,  2,  0,  0,  0],\n",
              "       [ 2,  0,  0,  3,  0,  1,  0,  0,  2],\n",
              "       [ 5,  0,  0,  1, 20,  0,  0,  0,  1],\n",
              "       [ 3,  2,  0,  0,  0,  9,  0,  0,  1],\n",
              "       [ 0,  0,  0,  0,  2,  2,  2,  0,  1],\n",
              "       [ 3,  0,  0,  0,  0,  1,  0,  7,  1],\n",
              "       [ 1,  0,  0,  0,  0,  0,  0,  0,  8]])"
            ]
          },
          "metadata": {},
          "execution_count": 5
        }
      ]
    },
    {
      "cell_type": "code",
      "source": [
        "print(classification_report(ytrue, ypred))"
      ],
      "metadata": {
        "id": "rtQh3eyY9CRI",
        "outputId": "413da908-fa20-4f25-b9ab-ab69641a046c",
        "colab": {
          "base_uri": "https://localhost:8080/"
        }
      },
      "execution_count": 6,
      "outputs": [
        {
          "output_type": "stream",
          "name": "stdout",
          "text": [
            "                      precision    recall  f1-score   support\n",
            "\n",
            "                None       0.47      0.93      0.62        15\n",
            "          checkpoint       0.50      0.60      0.55         5\n",
            "        distillation       1.00      0.25      0.40         4\n",
            "efficient read write       0.60      0.38      0.46         8\n",
            "        memory leaks       0.91      0.74      0.82        27\n",
            " pretrained networks       0.60      0.60      0.60        15\n",
            "             pruning       1.00      0.29      0.44         7\n",
            "        quantization       1.00      0.58      0.74        12\n",
            "   tensor operations       0.57      0.89      0.70         9\n",
            "\n",
            "            accuracy                           0.66       102\n",
            "           macro avg       0.74      0.58      0.59       102\n",
            "        weighted avg       0.74      0.66      0.65       102\n",
            "\n"
          ]
        }
      ]
    }
  ]
}